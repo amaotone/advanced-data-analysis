{
 "cells": [
  {
   "cell_type": "code",
   "execution_count": 1,
   "metadata": {
    "collapsed": true
   },
   "outputs": [],
   "source": [
    "import sys\n",
    "sys.path.insert(0, '../')"
   ]
  },
  {
   "cell_type": "code",
   "execution_count": 2,
   "metadata": {
    "collapsed": true
   },
   "outputs": [],
   "source": [
    "from ada.regression import KernelLasso"
   ]
  },
  {
   "cell_type": "code",
   "execution_count": 3,
   "metadata": {
    "collapsed": true
   },
   "outputs": [],
   "source": [
    "from sklearn.datasets import load_diabetes"
   ]
  },
  {
   "cell_type": "code",
   "execution_count": 4,
   "metadata": {
    "collapsed": true
   },
   "outputs": [],
   "source": [
    "data, target = load_diabetes(return_X_y=True)"
   ]
  },
  {
   "cell_type": "code",
   "execution_count": 5,
   "metadata": {
    "collapsed": true
   },
   "outputs": [],
   "source": [
    "%matplotlib inline\n",
    "import matplotlib.pyplot as plt"
   ]
  },
  {
   "cell_type": "code",
   "execution_count": 6,
   "metadata": {
    "scrolled": true
   },
   "outputs": [
    {
     "name": "stdout",
     "output_type": "stream",
     "text": [
      "0 378.894032511\n",
      "10000 0.00220885175718\n",
      "20000 0.000642138339544\n",
      "30000 0.000287674252796\n",
      "40000 0.00014414050387\n",
      "50000 8.52796400269e-05\n",
      "60000 5.40106458654e-05\n",
      "70000 3.69389057838e-05\n",
      "80000 2.51243984844e-05\n",
      "90000 1.84113532365e-05\n",
      "100000 1.32359089122e-05\n",
      "110000 8.92834527968e-06\n",
      "120000 6.30040510971e-06\n",
      "130000 4.88381387063e-06\n",
      "140000 3.84152693164e-06\n",
      "150000 3.18424972538e-06\n",
      "160000 2.70427130181e-06\n",
      "170000 2.19668639235e-06\n",
      "180000 1.90171488943e-06\n",
      "190000 1.67138989355e-06\n",
      "200000 1.48431170273e-06\n",
      "210000 1.32841210502e-06\n",
      "220000 1.19737625558e-06\n",
      "230000 1.0863989693e-06\n",
      "240000 9.89394089332e-07\n",
      "250000 9.01540977071e-07\n",
      "260000 8.2188000307e-07\n",
      "270000 7.43246966244e-07\n",
      "280000 6.74834160551e-07\n",
      "290000 6.15432301912e-07\n",
      "300000 5.62512034104e-07\n",
      "310000 5.15017872487e-07\n",
      "320000 4.72194849392e-07\n",
      "330000 4.33447200746e-07\n",
      "340000 3.98286692946e-07\n",
      "350000 3.66304577397e-07\n",
      "360000 3.37153681676e-07\n",
      "370000 3.10535941391e-07\n",
      "380000 2.86193258442e-07\n",
      "390000 2.63900553967e-07\n",
      "400000 2.43460358274e-07\n",
      "410000 1.83974690451e-07\n",
      "420000 1.61968957194e-07\n",
      "430000 1.43740846446e-07\n",
      "440000 1.28165679531e-07\n",
      "450000 1.14660574157e-07\n",
      "460000 1.02883260119e-07\n",
      "470000 9.25422451802e-08\n"
     ]
    },
    {
     "data": {
      "text/plain": [
       "KernelLasso(check_conv=10000, eps=1e-07, h=0.1,\n",
       "      kernel=<function gaussian_kernel at 0x10d0169d8>, l1=0.1,\n",
       "      max_iter=1000000, verbose=True)"
      ]
     },
     "execution_count": 6,
     "metadata": {},
     "output_type": "execute_result"
    }
   ],
   "source": [
    "model = KernelLasso(l1=0.1, eps=1e-7, verbose=True)\n",
    "model.fit(data, target)"
   ]
  },
  {
   "cell_type": "code",
   "execution_count": 7,
   "metadata": {
    "scrolled": false
   },
   "outputs": [
    {
     "data": {
      "text/plain": [
       "<matplotlib.collections.PathCollection at 0x110a47518>"
      ]
     },
     "execution_count": 7,
     "metadata": {},
     "output_type": "execute_result"
    },
    {
     "data": {
      "image/png": "[encoded data removed]",
      "text/plain": [
       "<matplotlib.figure.Figure at 0x10f292e80>"
      ]
     },
     "metadata": {},
     "output_type": "display_data"
    }
   ],
   "source": [
    "plt.scatter(model.predict(data), target)"
   ]
  },
  {
   "cell_type": "code",
   "execution_count": 8,
   "metadata": {},
   "outputs": [
    {
     "name": "stdout",
     "output_type": "stream",
     "text": [
      "50/442\n"
     ]
    }
   ],
   "source": [
    "print(\"{}/{}\".format(sum(abs(model.theta) < 1e-7), len(model.theta)))"
   ]
  },
  {
   "cell_type": "code",
   "execution_count": null,
   "metadata": {
    "collapsed": true
   },
   "outputs": [],
   "source": []
  }
 ],
 "metadata": {
  "kernelspec": {
   "display_name": "Python 3",
   "language": "python",
   "name": "python3"
  },
  "language_info": {
   "codemirror_mode": {
    "name": "ipython",
    "version": 3
   },
   "file_extension": ".py",
   "mimetype": "text/x-python",
   "name": "python",
   "nbconvert_exporter": "python",
   "pygments_lexer": "ipython3",
   "version": "3.6.1"
  }
 },
 "nbformat": 4,
 "nbformat_minor": 1
}
